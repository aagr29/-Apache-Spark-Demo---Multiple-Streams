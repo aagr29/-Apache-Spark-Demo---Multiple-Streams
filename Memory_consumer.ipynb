{
 "cells": [
  {
   "cell_type": "code",
   "execution_count": null,
   "metadata": {},
   "outputs": [],
   "source": [
    "# import statements\n",
    "from time import sleep\n",
    "from kafka import KafkaConsumer\n",
    "import datetime as dt\n",
    "import matplotlib\n",
    "import matplotlib.pyplot as plt\n",
    "from json import loads"
   ]
  },
  {
   "cell_type": "code",
   "execution_count": null,
   "metadata": {},
   "outputs": [],
   "source": [
    "def connect_kafka_consumer():\n",
    "    _consumer = None\n",
    "    try:\n",
    "         _consumer = KafkaConsumer(topic,\n",
    "                                   consumer_timeout_ms=100000, # stop iteration if no message after 10 sec\n",
    "                                   auto_offset_reset='latest', # comment this if you don't want to consume earliest available message\n",
    "                                   bootstrap_servers=['localhost:9092'],\n",
    "                                   value_deserializer=lambda x: loads(x.decode('ascii')),\n",
    "                                   api_version=(0, 10))\n",
    "    except Exception as ex:\n",
    "        print('Exception while connecting Kafka')\n",
    "        print(str(ex))\n",
    "    finally:\n",
    "        return _consumer"
   ]
  },
  {
   "cell_type": "code",
   "execution_count": null,
   "metadata": {},
   "outputs": [],
   "source": [
    "def init_plots():\n",
    "    try:\n",
    "        width = 9.5\n",
    "        height = 6\n",
    "        fig = plt.figure(figsize=(width,height)) # create new figure\n",
    "        ax = fig.add_subplot(111) # adding the subplot axes to the given grid position\n",
    "        fig.suptitle('Real-time uniform stream data visualization') # giving figure a title\n",
    "        ax.set_xlabel('Time')\n",
    "        ax.set_ylabel('Count')        \n",
    "        fig.show() # displaying the figure\n",
    "        fig.canvas.draw() # drawing on the canvas\n",
    "        return fig, ax\n",
    "    except Exception as ex:\n",
    "        print(str(ex))"
   ]
  },
  {
   "cell_type": "code",
   "execution_count": null,
   "metadata": {},
   "outputs": [],
   "source": [
    "# this line is needed for the inline display of graphs in Jupyter Notebook\n",
    "def consume_messages(consumer,fig,ax):\n",
    "    try:\n",
    "        # container for x and y values\n",
    "        x, y4, y5, y6, y7, y8 = [], [], [],[],[],[]   \n",
    "        count_machine_dict = {4:0,5:0,6:0,7:0,8:0}\n",
    "        for message in consumer:   \n",
    "            event_time=\"\"\n",
    "            for data in list(message.value):\n",
    "                row = eval(str(data))\n",
    "                event_time = data['ts']\n",
    "                machineNo = data['machine']\n",
    "                count_machine_dict[machineNo] += 1\n",
    "            #Append the required events\n",
    "            x.append(event_time)\n",
    "            y4.append(count_machine_dict[4])\n",
    "            y5.append(count_machine_dict[5])\n",
    "            y6.append(count_machine_dict[6])\n",
    "            y7.append(count_machine_dict[7])\n",
    "            y8.append(count_machine_dict[8])\n",
    "            \n",
    "            if len(x) > 12: #update chart in every 12 msg i.e records arriving in 2min\n",
    "#                 print('inside if condition')\n",
    "                ax.clear()\n",
    "#                 print(y4)\n",
    "                ax.plot(x,y4)\n",
    "                ax.plot(x,y5)\n",
    "                ax.plot(x,y6)\n",
    "                ax.plot(x,y7)\n",
    "                ax.plot(x,y8)\n",
    "                \n",
    "                \n",
    "                ax.set_xlabel('Time')\n",
    "                ax.set_ylabel('Count')\n",
    "                fig.canvas.draw()\n",
    "#                 ax.set_ylim(0,110) \n",
    "#                 ax.set_yticks([0,20,40,60,80,100])\n",
    "                \n",
    "                x.pop(0) \n",
    "                y4.pop(0)\n",
    "                y5.pop(0)\n",
    "                y6.pop(0)\n",
    "                y7.pop(0)\n",
    "                y8.pop(0)\n",
    "                \n",
    "        plt.close('all')\n",
    "    except Exception as ex:\n",
    "        print(str(ex))"
   ]
  },
  {
   "cell_type": "code",
   "execution_count": null,
   "metadata": {},
   "outputs": [],
   "source": [
    "%matplotlib notebook\n",
    "topic = 'Assignment2B-memory'\n",
    "consumer = connect_kafka_consumer()\n",
    "fig, ax = init_plots()    \n",
    "consume_messages(consumer,fig,ax)      "
   ]
  }
 ],
 "metadata": {
  "kernelspec": {
   "display_name": "Python 3",
   "language": "python",
   "name": "python3"
  },
  "language_info": {
   "codemirror_mode": {
    "name": "ipython",
    "version": 3
   },
   "file_extension": ".py",
   "mimetype": "text/x-python",
   "name": "python",
   "nbconvert_exporter": "python",
   "pygments_lexer": "ipython3",
   "version": "3.8.5"
  }
 },
 "nbformat": 4,
 "nbformat_minor": 4
}
